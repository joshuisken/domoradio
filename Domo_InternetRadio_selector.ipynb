{
 "cells": [
  {
   "cell_type": "markdown",
   "id": "7fdc5ba9-6408-40b6-a96c-e5bdb751dbb8",
   "metadata": {},
   "source": [
    "# Create Internet radio buttons in Domoticz"
   ]
  },
  {
   "cell_type": "code",
   "execution_count": null,
   "id": "5a701360-982c-4989-810c-b7f2058d327e",
   "metadata": {},
   "outputs": [],
   "source": [
    "import base64\n",
    "import json\n",
    "from urllib.request import urlopen\n",
    "from pprint import pprint"
   ]
  },
  {
   "cell_type": "markdown",
   "id": "38515edd-9317-4248-9373-1cf7939f74ee",
   "metadata": {},
   "source": [
    "## Obtain all internet radio links\n",
    "\n",
    "Using links from the 6-7 regions in EU:\n",
    "https://www.hendrikjansen.nl/henk/streaming.html"
   ]
  },
  {
   "cell_type": "code",
   "execution_count": null,
   "id": "f8e89dc7-93d4-4f78-9b34-290e088ad64c",
   "metadata": {},
   "outputs": [],
   "source": [
    "# To collect all radio stations and save in \"radio_stations.json\": \n",
    "from collect_iradio_links import collect_stations, urls\n",
    "pprint(urls)"
   ]
  },
  {
   "cell_type": "markdown",
   "id": "9273e2c5-d78b-4613-8638-6469d9e6b603",
   "metadata": {},
   "source": [
    "The variable urls gives a specification how to collect a subset internet radio links from the long lists in the websites. Regular expressions are used for selections and some namings are cleaned up after scanning the html code."
   ]
  },
  {
   "cell_type": "code",
   "execution_count": null,
   "id": "0d8e1330-d4c0-4207-939b-553ef699f667",
   "metadata": {},
   "outputs": [],
   "source": [
    "radio_stations = collect_stations(urls)\n",
    "pprint(radio_stations)"
   ]
  },
  {
   "cell_type": "markdown",
   "id": "5e0a11cf-3e22-400a-9794-b9a70096d7a6",
   "metadata": {},
   "source": [
    "### Your own selection\n",
    "This was a small example, now create your own selection by modifying the original selection. Just add regular expressions to the list per EU region.\n",
    "\n",
    "Please be aware that depending the website you want to use you may need to modify the functions _collect_stations_ in [collect_iradio_links.py](file:collect_iradio_links.py)."
   ]
  },
  {
   "cell_type": "code",
   "execution_count": null,
   "id": "0c2df323-cb91-4aa1-a289-4d20cd1b22f2",
   "metadata": {},
   "outputs": [],
   "source": [
    "urls = {\n",
    "    'https://www.hendrikjansen.nl/henk/streaming.html':\n",
    "    ('NL', [\n",
    "        'NPO [3R].*',  # select all NPO radio stations\n",
    "        ]),\n",
    "    'https://www.hendrikjansen.nl/henk/streaming1.html':\n",
    "    ('BE LU', [\n",
    "        'Radio [12]$',  # select only 'Radio 1' and 'Radio 2'\n",
    "        '.*Klara.*',    # Select all stations matching 'Klara' \n",
    "        ]),\n",
    "    # 'https://www.hendrikjansen.nl/henk/streaming3.html':  # DU LI AU\n",
    "    # 'https://www.hendrikjansen.nl/henk/streaming2.html':  # UK IR\n",
    "    # 'https://www.hendrikjansen.nl/henk/streaming4.html':  # FR ES BU\n",
    "    # 'https://www.hendrikjansen.nl/henk/streaming5.html':  # AF NA\n",
    "    # 'https://www.hendrikjansen.nl/henk/streaming6.html':\n",
    "    # 'https://www.hendrikjansen.nl/henk/streaming7.html':  # NO\n",
    "}\n",
    "radio_stations = collect_stations(urls)\n",
    "# Save the radio urls (not needed)\n",
    "with open('radio_stations.json', 'w') as f:\n",
    "    print(json.dumps(radio_stations, sort_keys=True, indent=4), file=f)"
   ]
  },
  {
   "cell_type": "markdown",
   "id": "7cd7f0ed-28a6-4079-b31d-2da73b47291d",
   "metadata": {},
   "source": [
    "## Integrate in domoticz\n",
    "For selecting a radiostations selector buttons are used. **Before running this part create the selector buttons in domoticz by hand**.\n",
    "\n",
    "Here we modify the selector buttons using a json url request. This url is partially base64 encoded (for the button options) so two variables are used to construct the url."
   ]
  },
  {
   "cell_type": "code",
   "execution_count": null,
   "id": "b4f61319-9d41-44c9-8eb5-7e9b42c42d89",
   "metadata": {},
   "outputs": [],
   "source": [
    "from create_domoticz_selector import selectorDef, selectorOpts, cr_url\n",
    "\n",
    "baseurl = 'http://localhost/'  # My local domoticz url"
   ]
  },
  {
   "cell_type": "code",
   "execution_count": null,
   "id": "717be8fa-9a6c-4d80-b997-5181a808c7a1",
   "metadata": {},
   "outputs": [],
   "source": [
    "pprint(selectorDef)"
   ]
  },
  {
   "cell_type": "markdown",
   "id": "4c2f7cc0-1ff0-4744-807e-a0a033fc62c3",
   "metadata": {},
   "source": [
    "**Important:** the _idx_ variable must be correct: it is the switch id in domoticz which was created before. (*TODO:* Maybe there exists a method to just create a new switch??)"
   ]
  },
  {
   "cell_type": "code",
   "execution_count": null,
   "id": "7ed42f5e-aeeb-4111-88d3-cc62c489f8a8",
   "metadata": {},
   "outputs": [],
   "source": [
    "pprint(selectorOpts)"
   ]
  },
  {
   "cell_type": "markdown",
   "id": "f4cb0c29-6f0d-4bab-9aa8-350add6a666f",
   "metadata": {},
   "source": [
    "Now we can test the reprogramming of the selector switch: it should return with \n",
    "\n",
    "\"status\": \"OK\""
   ]
  },
  {
   "cell_type": "code",
   "execution_count": null,
   "id": "b3509a75-2b84-4655-95b3-40cab8db3afa",
   "metadata": {},
   "outputs": [],
   "source": [
    "url = cr_url(baseurl, selectorDef, selectorOpts)\n",
    "with urlopen(url) as f:\n",
    "    print(f.read().decode('utf-8'))"
   ]
  },
  {
   "cell_type": "markdown",
   "id": "ab77a650-b343-48ae-8de0-0370bd9480d6",
   "metadata": {},
   "source": [
    "### My own selectors\n",
    "The variable _radio_stations_ contains per region (ex. _NL_ and _BE LU_) a list of tuples with the station name and streaming url. We define _selectors_ as the list of selector button, with their _idx_ and radio station selections. Here: selector switches with _idx_: 256-257 are defined."
   ]
  },
  {
   "cell_type": "code",
   "execution_count": null,
   "id": "3a169fd9-0739-4911-bcc0-594afb19422a",
   "metadata": {},
   "outputs": [],
   "source": [
    "selectors = {\n",
    "    'Radio NPO': (256, [\n",
    "        ('NL', 'NPO Radio 1'),\n",
    "        ('NL', 'NPO Radio 2'),\n",
    "        ('NL', 'NPO Radio 2 Soul & Jazz'),\n",
    "        ('NL', 'NPO 3FM'),\n",
    "        ('NL', 'NPO Radio 4'),\n",
    "        ('NL', 'NPO Radio 5')\n",
    "    ]),\n",
    "    'Radio Vlaanderen': (257, [\n",
    "        ('BE LU', 'Klara'),\n",
    "        ('BE LU', 'Klara Continuo'),\n",
    "        ('BE LU', 'Radio 1'),\n",
    "        ('BE LU', 'Radio 2'),\n",
    "    ]),\n",
    "}\n",
    "print(sorted(selectors.keys()))\n",
    "print([v[0] for k, v in selectors.items()])"
   ]
  },
  {
   "cell_type": "code",
   "execution_count": null,
   "id": "7bf257c9-f1b5-40bd-946f-2129488542b0",
   "metadata": {},
   "outputs": [],
   "source": [
    "s = selectorDef\n",
    "o = selectorOpts\n",
    "for m in selectors:\n",
    "    s['idx'] = str(selectors[m][0])\n",
    "    s['name'] = m\n",
    "    o['LevelNames'] = ['Off'] + [r[1] for r in selectors[m][1]]\n",
    "    o['LevelActions'] = [''] * len(o['LevelNames'])\n",
    "    url = cr_url(baseurl, s, o)\n",
    "    print(url)\n",
    "    with urlopen(url) as f:\n",
    "        print(f.read().decode('utf-8'))"
   ]
  },
  {
   "cell_type": "markdown",
   "id": "fc08667a-5501-4c33-8a14-de9fdaee0016",
   "metadata": {},
   "source": [
    "## dzVents lua script\n",
    "\n",
    "A script is required which acts on events of the selector switches. Obviously selecting an internet radio station requires starting of **mplayer** and the amplifier with speakers should be connected.\n",
    "\n",
    "The [script radio.lua](file:radio.lua) uses a lua table which is generated here."
   ]
  },
  {
   "cell_type": "code",
   "execution_count": null,
   "id": "0aba8552-c34e-4d0b-9c50-6a195ad4e63b",
   "metadata": {},
   "outputs": [],
   "source": [
    "print('local stations = {')\n",
    "for m in selectors:\n",
    "    for c, l in selectors[m][1]:\n",
    "        #  entry = \"{'%s', '%s'},\" % (l, radio_stations[c][l])\n",
    "        entry = \"    ['%s'] = '%s',\" % (l, radio_stations[c][l])  # Create lua table\n",
    "        print(entry)\n",
    "print('}')"
   ]
  },
  {
   "cell_type": "markdown",
   "id": "3e584714-32d5-4638-a953-c89c97d399aa",
   "metadata": {},
   "source": [
    "The script needs to be modified to your own taste. In this example an Onkyo player is used which also happens to be used as a bluetooth player.\n",
    "\n",
    "Things to modify:\n",
    "- Add the stations table\n",
    "- Add the domoticz devices you have defined in the _on_ section and list them in the variable _selectors_ in section _execute_\n",
    "- Modify the _execute_ section to your likings\n",
    "\n",
    "**Important note**: when making a selection in one selector you want all other selectors being switched off. As a consequence all **mplayer** processes are killed. Since these switch-off events are scheduled and therefore executed later, the start of the internet radio stream needs to be delayed (with a second in this case) in _os.execute_."
   ]
  }
 ],
 "metadata": {
  "kernelspec": {
   "display_name": "Python 3 (ipykernel)",
   "language": "python",
   "name": "python3"
  },
  "language_info": {
   "codemirror_mode": {
    "name": "ipython",
    "version": 3
   },
   "file_extension": ".py",
   "mimetype": "text/x-python",
   "name": "python",
   "nbconvert_exporter": "python",
   "pygments_lexer": "ipython3",
   "version": "3.8.10"
  }
 },
 "nbformat": 4,
 "nbformat_minor": 5
}
